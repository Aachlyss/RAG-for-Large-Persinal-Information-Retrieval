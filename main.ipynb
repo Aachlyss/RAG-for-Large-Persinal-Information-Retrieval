{
 "cells": [
  {
   "cell_type": "markdown",
   "metadata": {},
   "source": [
    "# Retrieval Augmented Generation using LangChain\n",
    "-Load enviroment variables into the main program"
   ]
  },
  {
   "cell_type": "markdown",
   "metadata": {},
   "source": [
    "%pip install -qU pypdf"
   ]
  },
  {
   "cell_type": "code",
   "execution_count": 2,
   "metadata": {},
   "outputs": [
    {
     "name": "stdout",
     "output_type": "stream",
     "text": [
      "\n",
      "\u001b[1m[\u001b[0m\u001b[34;49mnotice\u001b[0m\u001b[1;39;49m]\u001b[0m\u001b[39;49m A new release of pip is available: \u001b[0m\u001b[31;49m25.0\u001b[0m\u001b[39;49m -> \u001b[0m\u001b[32;49m25.1.1\u001b[0m\n",
      "\u001b[1m[\u001b[0m\u001b[34;49mnotice\u001b[0m\u001b[1;39;49m]\u001b[0m\u001b[39;49m To update, run: \u001b[0m\u001b[32;49mpip install --upgrade pip\u001b[0m\n",
      "Note: you may need to restart the kernel to use updated packages.\n"
     ]
    }
   ],
   "source": [
    "%pip install -qU pypdf"
   ]
  },
  {
   "cell_type": "code",
   "execution_count": 3,
   "metadata": {},
   "outputs": [
    {
     "data": {
      "text/plain": [
       "True"
      ]
     },
     "execution_count": 3,
     "metadata": {},
     "output_type": "execute_result"
    }
   ],
   "source": [
    "import os\n",
    "from dotenv import load_dotenv\n",
    "\n",
    "# Load enviroment file\n",
    "load_dotenv()"
   ]
  },
  {
   "cell_type": "markdown",
   "metadata": {},
   "source": [
    "Loading The Document"
   ]
  },
  {
   "cell_type": "code",
   "execution_count": 4,
   "metadata": {},
   "outputs": [
    {
     "name": "stdout",
     "output_type": "stream",
     "text": [
      "8 \n",
      "Методи на изследването \n",
      "При преследване на така поставената цел и в търсене на \n",
      "решение на произтичащите от нея задачи е необходи мо да \n",
      "подберем подходяща методология. За целта се ориентираме \n",
      "към използването на следните методи: \n",
      " Анализ на литературните източници, свързани с \n",
      "разработваната проблематика – научни трудове, \n",
      "енциклопедии, периодични издания, каталози на \n",
      "фирми-производителки на мебели за седене и др.; \n",
      " Системен подход, който стои в основата на \n",
      "сравнителен анализ по предварително избрани \n",
      "показатели на комплекс от фактори, разкрити при \n",
      "изследването или изложени по аналогични теми; \n",
      " Семиотични анализи и мисловен експеримент; \n",
      " Лични наблюдения и критичен анализ. \n",
      "Обхват на изследването \n",
      "Като се има предвид голямото разнообразие във \n",
      "функционалното предназначение на мебелите за седене, е \n",
      "необходимо, при дефиниране на обекта на изследване в \n",
      "настоящия труд, да се уточни, че в монографията се изследват \n",
      "тези столове, обслужващи функциите „хранене” и \n",
      "„индивидуална работа”, които са предназначени за жилищно \n",
      "обзавеждане. Няма да бъдат обект на изследване останалите \n",
      "мебели за седене в жилището като табуретки и шезлонги, \n",
      "както и тапицирани кресла  и канапета, предназначени за \n",
      "обзавеждане на зона почивка. Извън обхвата на изследване \n",
      "остават мебелите за седене, предназначени за обществено \n",
      "обзавеждане. Изследването се ограничава във времето 2000 г. \n",
      "– 2015 г., поради естеството на поставените задачи. \n",
      "Очаквани резултати \n",
      "Изследването се стреми да анализира и систематизира \n",
      "основните фактори, влияещи върху структурното изграждане \n",
      "на съвременните столове. Благодарение на актуалните си \n",
      "цели, предмет и методи се надяваме монографията да \n",
      "допринесе за развитието на теорията в областта на мебелния \n",
      "дизайн, и в частност – мебелите за седене. Освен това то \n",
      "може да бъде полезно и за обогатяване на информационната \n",
      "база в изследваната област на дизайнери, инженери, \n",
      "архитекти и други специалисти, занимаващи се с продуктов и \n",
      "интериорен дизайн, както и на специалисти от други области.\n"
     ]
    }
   ],
   "source": [
    "from langchain_community.document_loaders import PyPDFLoader\n",
    "\n",
    "file_path = \"data/book_abt_chairs.pdf\"\n",
    "\n",
    "loader = PyPDFLoader(file_path)\n",
    "pages = []\n",
    "async for page in loader.alazy_load():\n",
    "    pages.append(page)\n",
    "\n",
    "print(pages[3].page_content)"
   ]
  },
  {
   "cell_type": "code",
   "execution_count": 5,
   "metadata": {},
   "outputs": [
    {
     "name": "stdout",
     "output_type": "stream",
     "text": [
      "Page 87: 92 \n",
      "цветовете, композиционната изява на пропорциите, \n",
      "разчленяването на формата, ритъма, контраста.  \n",
      "Тенденциите за новото хилядолетие диктуват на \n",
      "производителите да използват много цветове, пластични \n",
      "форми и качествени материали с цел постигане на по -добра \n",
      "психологическа атмосфера в съвременно\n",
      "\n",
      "Page 86: 91 \n",
      "5. Цвят, текстура и фактура \n",
      "Цветът, текстурата и фактурата като свойства на формата са \n",
      "неразделна част от визуалното възприемане на мебелите. Те \n",
      "могат да варират в широки граници. Текстурата на \n",
      "повърхността зависи от начина на обработката на \n",
      "материала. Цветът и текстурата не винаги характер\n",
      "\n"
     ]
    }
   ],
   "source": [
    "from langchain_core.vectorstores import InMemoryVectorStore\n",
    "from langchain_openai import OpenAIEmbeddings\n",
    "\n",
    "vector_store = InMemoryVectorStore.from_documents(pages, OpenAIEmbeddings())\n",
    "docs = vector_store.similarity_search(\"Цветове\", k=2)\n",
    "for doc in docs:\n",
    "    print(f'Page {doc.metadata[\"page\"]}: {doc.page_content[:300]}\\n')"
   ]
  }
 ],
 "metadata": {
  "kernelspec": {
   "display_name": "Python 3",
   "language": "python",
   "name": "python3"
  },
  "language_info": {
   "codemirror_mode": {
    "name": "ipython",
    "version": 3
   },
   "file_extension": ".py",
   "mimetype": "text/x-python",
   "name": "python",
   "nbconvert_exporter": "python",
   "pygments_lexer": "ipython3",
   "version": "3.12.2"
  }
 },
 "nbformat": 4,
 "nbformat_minor": 2
}
